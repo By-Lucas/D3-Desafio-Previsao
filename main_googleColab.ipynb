{
  "cells": [
    {
      "cell_type": "markdown",
      "metadata": {
        "id": "GxLqXgOfanOX"
      },
      "source": [
        "# Carregar dados\n",
        "* Busque dados do arquivo csv e coloque-os em um Pandas DataFrame."
      ]
    },
    {
      "cell_type": "code",
      "execution_count": 12,
      "metadata": {
        "colab": {
          "base_uri": "https://localhost:8080/",
          "height": 300
        },
        "execution": {
          "iopub.execute_input": "2022-03-10T01:04:35.655236Z",
          "iopub.status.busy": "2022-03-10T01:04:35.654674Z",
          "iopub.status.idle": "2022-03-10T01:04:35.742489Z",
          "shell.execute_reply": "2022-03-10T01:04:35.741183Z",
          "shell.execute_reply.started": "2022-03-10T01:04:35.655155Z"
        },
        "id": "q8BAf7QsXQjO",
        "outputId": "1348a481-1301-4d20-8a40-fc02f33de535",
        "trusted": true
      },
      "outputs": [
        {
          "data": {
            "text/html": [
              "<div>\n",
              "<style scoped>\n",
              "    .dataframe tbody tr th:only-of-type {\n",
              "        vertical-align: middle;\n",
              "    }\n",
              "\n",
              "    .dataframe tbody tr th {\n",
              "        vertical-align: top;\n",
              "    }\n",
              "\n",
              "    .dataframe thead th {\n",
              "        text-align: right;\n",
              "    }\n",
              "</style>\n",
              "<table border=\"1\" class=\"dataframe\">\n",
              "  <thead>\n",
              "    <tr style=\"text-align: right;\">\n",
              "      <th></th>\n",
              "      <th>Province/State</th>\n",
              "      <th>Country/Region</th>\n",
              "      <th>Lat</th>\n",
              "      <th>Long</th>\n",
              "      <th>1/22/20</th>\n",
              "      <th>1/23/20</th>\n",
              "      <th>1/24/20</th>\n",
              "      <th>1/25/20</th>\n",
              "      <th>1/26/20</th>\n",
              "      <th>1/27/20</th>\n",
              "      <th>...</th>\n",
              "      <th>5/20/21</th>\n",
              "      <th>5/21/21</th>\n",
              "      <th>5/22/21</th>\n",
              "      <th>5/23/21</th>\n",
              "      <th>5/24/21</th>\n",
              "      <th>5/25/21</th>\n",
              "      <th>5/26/21</th>\n",
              "      <th>5/27/21</th>\n",
              "      <th>5/28/21</th>\n",
              "      <th>5/29/21</th>\n",
              "    </tr>\n",
              "  </thead>\n",
              "  <tbody>\n",
              "    <tr>\n",
              "      <th>0</th>\n",
              "      <td>NaN</td>\n",
              "      <td>Afghanistan</td>\n",
              "      <td>33.93911</td>\n",
              "      <td>67.709953</td>\n",
              "      <td>0</td>\n",
              "      <td>0</td>\n",
              "      <td>0</td>\n",
              "      <td>0</td>\n",
              "      <td>0</td>\n",
              "      <td>0</td>\n",
              "      <td>...</td>\n",
              "      <td>64575</td>\n",
              "      <td>65080</td>\n",
              "      <td>65486</td>\n",
              "      <td>65728</td>\n",
              "      <td>66275</td>\n",
              "      <td>66903</td>\n",
              "      <td>67743</td>\n",
              "      <td>68366</td>\n",
              "      <td>69130</td>\n",
              "      <td>70111</td>\n",
              "    </tr>\n",
              "    <tr>\n",
              "      <th>1</th>\n",
              "      <td>NaN</td>\n",
              "      <td>Albania</td>\n",
              "      <td>41.15330</td>\n",
              "      <td>20.168300</td>\n",
              "      <td>0</td>\n",
              "      <td>0</td>\n",
              "      <td>0</td>\n",
              "      <td>0</td>\n",
              "      <td>0</td>\n",
              "      <td>0</td>\n",
              "      <td>...</td>\n",
              "      <td>132118</td>\n",
              "      <td>132153</td>\n",
              "      <td>132176</td>\n",
              "      <td>132209</td>\n",
              "      <td>132215</td>\n",
              "      <td>132229</td>\n",
              "      <td>132244</td>\n",
              "      <td>132264</td>\n",
              "      <td>132285</td>\n",
              "      <td>132297</td>\n",
              "    </tr>\n",
              "    <tr>\n",
              "      <th>2</th>\n",
              "      <td>NaN</td>\n",
              "      <td>Algeria</td>\n",
              "      <td>28.03390</td>\n",
              "      <td>1.659600</td>\n",
              "      <td>0</td>\n",
              "      <td>0</td>\n",
              "      <td>0</td>\n",
              "      <td>0</td>\n",
              "      <td>0</td>\n",
              "      <td>0</td>\n",
              "      <td>...</td>\n",
              "      <td>126156</td>\n",
              "      <td>126434</td>\n",
              "      <td>126651</td>\n",
              "      <td>126860</td>\n",
              "      <td>127107</td>\n",
              "      <td>127361</td>\n",
              "      <td>127646</td>\n",
              "      <td>127926</td>\n",
              "      <td>128198</td>\n",
              "      <td>128456</td>\n",
              "    </tr>\n",
              "    <tr>\n",
              "      <th>3</th>\n",
              "      <td>NaN</td>\n",
              "      <td>Andorra</td>\n",
              "      <td>42.50630</td>\n",
              "      <td>1.521800</td>\n",
              "      <td>0</td>\n",
              "      <td>0</td>\n",
              "      <td>0</td>\n",
              "      <td>0</td>\n",
              "      <td>0</td>\n",
              "      <td>0</td>\n",
              "      <td>...</td>\n",
              "      <td>13569</td>\n",
              "      <td>13569</td>\n",
              "      <td>13569</td>\n",
              "      <td>13569</td>\n",
              "      <td>13569</td>\n",
              "      <td>13664</td>\n",
              "      <td>13671</td>\n",
              "      <td>13682</td>\n",
              "      <td>13693</td>\n",
              "      <td>13693</td>\n",
              "    </tr>\n",
              "    <tr>\n",
              "      <th>4</th>\n",
              "      <td>NaN</td>\n",
              "      <td>Angola</td>\n",
              "      <td>-11.20270</td>\n",
              "      <td>17.873900</td>\n",
              "      <td>0</td>\n",
              "      <td>0</td>\n",
              "      <td>0</td>\n",
              "      <td>0</td>\n",
              "      <td>0</td>\n",
              "      <td>0</td>\n",
              "      <td>...</td>\n",
              "      <td>31661</td>\n",
              "      <td>31909</td>\n",
              "      <td>32149</td>\n",
              "      <td>32441</td>\n",
              "      <td>32623</td>\n",
              "      <td>32933</td>\n",
              "      <td>33338</td>\n",
              "      <td>33607</td>\n",
              "      <td>33944</td>\n",
              "      <td>34180</td>\n",
              "    </tr>\n",
              "  </tbody>\n",
              "</table>\n",
              "<p>5 rows × 498 columns</p>\n",
              "</div>"
            ],
            "text/plain": [
              "  Province/State Country/Region       Lat       Long  1/22/20  1/23/20  \\\n",
              "0            NaN    Afghanistan  33.93911  67.709953        0        0   \n",
              "1            NaN        Albania  41.15330  20.168300        0        0   \n",
              "2            NaN        Algeria  28.03390   1.659600        0        0   \n",
              "3            NaN        Andorra  42.50630   1.521800        0        0   \n",
              "4            NaN         Angola -11.20270  17.873900        0        0   \n",
              "\n",
              "   1/24/20  1/25/20  1/26/20  1/27/20  ...  5/20/21  5/21/21  5/22/21  \\\n",
              "0        0        0        0        0  ...    64575    65080    65486   \n",
              "1        0        0        0        0  ...   132118   132153   132176   \n",
              "2        0        0        0        0  ...   126156   126434   126651   \n",
              "3        0        0        0        0  ...    13569    13569    13569   \n",
              "4        0        0        0        0  ...    31661    31909    32149   \n",
              "\n",
              "   5/23/21  5/24/21  5/25/21  5/26/21  5/27/21  5/28/21  5/29/21  \n",
              "0    65728    66275    66903    67743    68366    69130    70111  \n",
              "1   132209   132215   132229   132244   132264   132285   132297  \n",
              "2   126860   127107   127361   127646   127926   128198   128456  \n",
              "3    13569    13569    13664    13671    13682    13693    13693  \n",
              "4    32441    32623    32933    33338    33607    33944    34180  \n",
              "\n",
              "[5 rows x 498 columns]"
            ]
          },
          "execution_count": 12,
          "metadata": {},
          "output_type": "execute_result"
        }
      ],
      "source": [
        "import pandas as pd\n",
        "\n",
        "covid_data = pd.read_csv('arquivos/time_series_covid_19_confirmed.csv')\n",
        "covid_data.head()"
      ]
    },
    {
      "cell_type": "markdown",
      "metadata": {
        "id": "Ms4chqzoXQjO"
      },
      "source": [
        "# Preparação de dados\n",
        "* Como queremos prever casos para os BRasil, extrairemos a linha contendo os casos de covid confirmados nos Brasil."
      ]
    },
    {
      "cell_type": "code",
      "execution_count": 13,
      "metadata": {
        "colab": {
          "base_uri": "https://localhost:8080/",
          "height": 174
        },
        "id": "htgKpEsnXQjQ",
        "outputId": "3b8cd5cb-05b1-4b99-98e2-38b321eb03c2",
        "trusted": true
      },
      "outputs": [
        {
          "data": {
            "text/html": [
              "<div>\n",
              "<style scoped>\n",
              "    .dataframe tbody tr th:only-of-type {\n",
              "        vertical-align: middle;\n",
              "    }\n",
              "\n",
              "    .dataframe tbody tr th {\n",
              "        vertical-align: top;\n",
              "    }\n",
              "\n",
              "    .dataframe thead th {\n",
              "        text-align: right;\n",
              "    }\n",
              "</style>\n",
              "<table border=\"1\" class=\"dataframe\">\n",
              "  <thead>\n",
              "    <tr style=\"text-align: right;\">\n",
              "      <th></th>\n",
              "      <th>Province/State</th>\n",
              "      <th>Country/Region</th>\n",
              "      <th>Lat</th>\n",
              "      <th>Long</th>\n",
              "      <th>1/22/20</th>\n",
              "      <th>1/23/20</th>\n",
              "      <th>1/24/20</th>\n",
              "      <th>1/25/20</th>\n",
              "      <th>1/26/20</th>\n",
              "      <th>1/27/20</th>\n",
              "      <th>...</th>\n",
              "      <th>5/20/21</th>\n",
              "      <th>5/21/21</th>\n",
              "      <th>5/22/21</th>\n",
              "      <th>5/23/21</th>\n",
              "      <th>5/24/21</th>\n",
              "      <th>5/25/21</th>\n",
              "      <th>5/26/21</th>\n",
              "      <th>5/27/21</th>\n",
              "      <th>5/28/21</th>\n",
              "      <th>5/29/21</th>\n",
              "    </tr>\n",
              "  </thead>\n",
              "  <tbody>\n",
              "    <tr>\n",
              "      <th>30</th>\n",
              "      <td>NaN</td>\n",
              "      <td>Brazil</td>\n",
              "      <td>-14.235</td>\n",
              "      <td>-51.9253</td>\n",
              "      <td>0</td>\n",
              "      <td>0</td>\n",
              "      <td>0</td>\n",
              "      <td>0</td>\n",
              "      <td>0</td>\n",
              "      <td>0</td>\n",
              "      <td>...</td>\n",
              "      <td>15894094</td>\n",
              "      <td>15970949</td>\n",
              "      <td>16047439</td>\n",
              "      <td>16083258</td>\n",
              "      <td>16120756</td>\n",
              "      <td>16194209</td>\n",
              "      <td>16274695</td>\n",
              "      <td>16342162</td>\n",
              "      <td>16391930</td>\n",
              "      <td>16471600</td>\n",
              "    </tr>\n",
              "  </tbody>\n",
              "</table>\n",
              "<p>1 rows × 498 columns</p>\n",
              "</div>"
            ],
            "text/plain": [
              "   Province/State Country/Region     Lat     Long  1/22/20  1/23/20  1/24/20  \\\n",
              "30            NaN         Brazil -14.235 -51.9253        0        0        0   \n",
              "\n",
              "    1/25/20  1/26/20  1/27/20  ...   5/20/21   5/21/21   5/22/21   5/23/21  \\\n",
              "30        0        0        0  ...  15894094  15970949  16047439  16083258   \n",
              "\n",
              "     5/24/21   5/25/21   5/26/21   5/27/21   5/28/21   5/29/21  \n",
              "30  16120756  16194209  16274695  16342162  16391930  16471600  \n",
              "\n",
              "[1 rows x 498 columns]"
            ]
          },
          "execution_count": 13,
          "metadata": {},
          "output_type": "execute_result"
        }
      ],
      "source": [
        "us_covid_data = covid_data.loc[covid_data['Country/Region'] == 'Brazil']\n",
        "\n",
        "us_covid_data"
      ]
    },
    {
      "cell_type": "markdown",
      "metadata": {
        "id": "Q9mCFBXFXQjQ"
      },
      "source": [
        "### Dados de pré-processamento\n",
        "* Podemos descartar as colunas para 'Província/Estado', 'País/Região', 'Lat' e 'Long', os dados são apenas para o Brasil e essas colunas não são necessárias para previsão."
      ]
    },
    {
      "cell_type": "code",
      "execution_count": 14,
      "metadata": {
        "id": "NytDWdXcXQjR",
        "trusted": true
      },
      "outputs": [],
      "source": [
        "us_covid_data = us_covid_data.drop(columns=['Province/State', 'Country/Region', 'Lat', 'Long'])"
      ]
    },
    {
      "cell_type": "markdown",
      "metadata": {
        "id": "9zzuYm-cXQjS"
      },
      "source": [
        "* Como o número de casos de Corona fica bastante grande ao longo do tempo, os cálculos do nosso modelo durante o treinamento podem ser muito lentos. Podemos corrigir isso usando o MinMaxScaler do sklearn para redimensionar nossos dados."
      ]
    },
    {
      "cell_type": "code",
      "execution_count": 15,
      "metadata": {
        "id": "5fNCN3rCXQjS",
        "trusted": true
      },
      "outputs": [],
      "source": [
        "from sklearn.preprocessing import MinMaxScaler\n",
        "\n",
        "scaler = MinMaxScaler()\n",
        "scaler.fit(us_covid_data.values.T)\n",
        "us_covid_data = scaler.transform(us_covid_data.values.T)"
      ]
    },
    {
      "cell_type": "markdown",
      "metadata": {
        "id": "2mAP8HpEXQjT"
      },
      "source": [
        "### Dividir em X e y\n",
        "* Vamos configurar nosso X e y de tal forma que X[n] conterá os casos para uma certa quantidade de dias anteriores (time_steps) e y[n] conterá a leitura para o dia seguinte.\n",
        "* Dessa forma, nosso modelo será treinado para prever o número de casos em um determinado dia com base na tendência do número de casos no número de dias de time_steps anterior.\n",
        "* Após alguns testes, descobri que usar os dados dos 30 dias anteriores permitiu que nosso modelo fizesse previsões bastante precisas no 31º dia."
      ]
    },
    {
      "cell_type": "code",
      "execution_count": 16,
      "metadata": {
        "id": "mXfpcr6aXQjU",
        "trusted": true
      },
      "outputs": [],
      "source": [
        "import numpy as np\n",
        "\n",
        "X, y = [], []\n",
        "time_steps = 30\n",
        "\n",
        "for i in range(len(us_covid_data) - time_steps):\n",
        "    x = us_covid_data[i:(i+time_steps), 0]\n",
        "    X.append(x)\n",
        "    y.append(us_covid_data[i+time_steps, 0])\n",
        "\n",
        "X = np.array(X)\n",
        "y = np.array(y)"
      ]
    },
    {
      "cell_type": "markdown",
      "metadata": {
        "id": "MXQL3IR3XQjU"
      },
      "source": [
        "# Particionamento de dados\n",
        "* Devemos manter o conjunto de dados em ordem, pois estamos analisando uma linha do tempo cronológica dos casos de Corona, para que possamos usar os primeiros 80% dos dados como nosso treinamento e nossos testes serão os 20% restantes.\n",
        "* Também precisamos remodelar as partições X para que nosso modelo possa processá-las corretamente."
      ]
    },
    {
      "cell_type": "code",
      "execution_count": 17,
      "metadata": {
        "id": "4ZwVN9i0XQjU",
        "trusted": true
      },
      "outputs": [],
      "source": [
        "split = int(len(X) * 0.8)\n",
        "\n",
        "X_train = X[:split]\n",
        "X_test = X[split:]\n",
        "y_train = y[:split]\n",
        "y_test = y[split:]\n",
        "\n",
        "X_train = np.reshape(X_train, (X_train.shape[0], 1, X_train.shape[1]))\n",
        "X_test = np.reshape(X_test, (X_test.shape[0], 1, X_test.shape[1]))"
      ]
    },
    {
      "cell_type": "markdown",
      "metadata": {
        "id": "kyhrBJ3iXQjV"
      },
      "source": [
        "# Arquitetura do modelo\n",
        "* Criamos nosso modelo usando uma arquitetura de rede neural recorrente.\n",
        "* O modelo consiste em uma camada de entrada, seguida por três camadas LSTM que utilizam dropout para evitar que nosso modelo se ajuste demais.\n",
        "* A saída é uma camada Densa com um único neurônio usando a função de ativação ReLU"
      ]
    },
    {
      "cell_type": "code",
      "execution_count": 18,
      "metadata": {
        "colab": {
          "base_uri": "https://localhost:8080/"
        },
        "id": "7jCtmsVYXQjV",
        "outputId": "cc560664-5063-433b-e450-38e96d61f9ee",
        "trusted": true
      },
      "outputs": [
        {
          "name": "stdout",
          "output_type": "stream",
          "text": [
            "Model: \"sequential_1\"\n",
            "_________________________________________________________________\n",
            " Layer (type)                Output Shape              Param #   \n",
            "=================================================================\n",
            " lstm_3 (LSTM)               (None, 1, 48)             15168     \n",
            "                                                                 \n",
            " dropout_3 (Dropout)         (None, 1, 48)             0         \n",
            "                                                                 \n",
            " lstm_4 (LSTM)               (None, 1, 48)             18624     \n",
            "                                                                 \n",
            " dropout_4 (Dropout)         (None, 1, 48)             0         \n",
            "                                                                 \n",
            " lstm_5 (LSTM)               (None, 48)                18624     \n",
            "                                                                 \n",
            " dropout_5 (Dropout)         (None, 48)                0         \n",
            "                                                                 \n",
            " dense_1 (Dense)             (None, 1)                 49        \n",
            "                                                                 \n",
            "=================================================================\n",
            "Total params: 52,465\n",
            "Trainable params: 52,465\n",
            "Non-trainable params: 0\n",
            "_________________________________________________________________\n"
          ]
        }
      ],
      "source": [
        "import tensorflow as tf\n",
        "from tensorflow.keras.layers import Dense, Dropout, Input, LSTM\n",
        "from tensorflow.keras.models import Model\n",
        "from tensorflow.keras.models import Sequential\n",
        "from tensorflow.keras.optimizers import RMSprop\n",
        "\n",
        "model = Sequential()\n",
        "model.add(Input(shape=(1, time_steps)))\n",
        "model.add(LSTM(48, return_sequences=True))\n",
        "model.add(Dropout(0.4))\n",
        "model.add(LSTM(48, return_sequences=True))\n",
        "model.add(Dropout(0.2))\n",
        "model.add(LSTM(48))\n",
        "model.add(Dropout(0.2))\n",
        "model.add(Dense(1, activation='relu'))\n",
        "\n",
        "\n",
        "model.compile(loss = 'mean_squared_error',\n",
        "              optimizer = RMSprop(),\n",
        "              metrics = ['mean_squared_error'])\n",
        "\n",
        "model.summary()"
      ]
    },
    {
      "cell_type": "markdown",
      "metadata": {
        "id": "8Dy_WP5DXQjW"
      },
      "source": [
        "# Treinando  nosso modelo\n",
        "* Agora podemos treinar nosso modelo usando 20% dos dados de treinamento como nosso conjunto de validação.\n",
        "* O modelo usará o ReduceLROnPlateau para diminuir nossa taxa de aprendizado sempre que nossos platôs MSE de validação por três épocas para melhor precisão."
      ]
    },
    {
      "cell_type": "code",
      "execution_count": 19,
      "metadata": {
        "colab": {
          "base_uri": "https://localhost:8080/"
        },
        "id": "8-1M8oubXQjW",
        "outputId": "f165908c-e9b7-4a2c-e7b2-a17c7fc5f82a",
        "trusted": true
      },
      "outputs": [
        {
          "name": "stdout",
          "output_type": "stream",
          "text": [
            "Epoch 1/100\n",
            "3/3 [==============================] - 4s 462ms/step - loss: 0.0376 - mean_squared_error: 0.0376 - val_loss: 0.2306 - val_mean_squared_error: 0.2306 - lr: 0.0010\n",
            "Epoch 2/100\n",
            "3/3 [==============================] - 0s 15ms/step - loss: 0.0321 - mean_squared_error: 0.0321 - val_loss: 0.2068 - val_mean_squared_error: 0.2068 - lr: 0.0010\n",
            "Epoch 3/100\n",
            "3/3 [==============================] - 0s 14ms/step - loss: 0.0278 - mean_squared_error: 0.0278 - val_loss: 0.1817 - val_mean_squared_error: 0.1817 - lr: 0.0010\n",
            "Epoch 4/100\n",
            "3/3 [==============================] - 0s 14ms/step - loss: 0.0239 - mean_squared_error: 0.0239 - val_loss: 0.1546 - val_mean_squared_error: 0.1546 - lr: 0.0010\n",
            "Epoch 5/100\n",
            "3/3 [==============================] - 0s 14ms/step - loss: 0.0200 - mean_squared_error: 0.0200 - val_loss: 0.1255 - val_mean_squared_error: 0.1255 - lr: 0.0010\n",
            "Epoch 6/100\n",
            "3/3 [==============================] - 0s 13ms/step - loss: 0.0162 - mean_squared_error: 0.0162 - val_loss: 0.0955 - val_mean_squared_error: 0.0955 - lr: 0.0010\n",
            "Epoch 7/100\n",
            "3/3 [==============================] - 0s 13ms/step - loss: 0.0130 - mean_squared_error: 0.0130 - val_loss: 0.0670 - val_mean_squared_error: 0.0670 - lr: 0.0010\n",
            "Epoch 8/100\n",
            "3/3 [==============================] - 0s 12ms/step - loss: 0.0097 - mean_squared_error: 0.0097 - val_loss: 0.0422 - val_mean_squared_error: 0.0422 - lr: 0.0010\n",
            "Epoch 9/100\n",
            "3/3 [==============================] - 0s 12ms/step - loss: 0.0075 - mean_squared_error: 0.0075 - val_loss: 0.0229 - val_mean_squared_error: 0.0229 - lr: 0.0010\n",
            "Epoch 10/100\n",
            "3/3 [==============================] - 0s 13ms/step - loss: 0.0064 - mean_squared_error: 0.0064 - val_loss: 0.0104 - val_mean_squared_error: 0.0104 - lr: 0.0010\n",
            "Epoch 11/100\n",
            "3/3 [==============================] - 0s 13ms/step - loss: 0.0053 - mean_squared_error: 0.0053 - val_loss: 0.0038 - val_mean_squared_error: 0.0038 - lr: 0.0010\n",
            "Epoch 12/100\n",
            "3/3 [==============================] - 0s 13ms/step - loss: 0.0045 - mean_squared_error: 0.0045 - val_loss: 0.0017 - val_mean_squared_error: 0.0017 - lr: 0.0010\n",
            "Epoch 13/100\n",
            "3/3 [==============================] - 0s 12ms/step - loss: 0.0043 - mean_squared_error: 0.0043 - val_loss: 7.0246e-04 - val_mean_squared_error: 7.0246e-04 - lr: 0.0010\n",
            "Epoch 14/100\n",
            "3/3 [==============================] - 0s 14ms/step - loss: 0.0039 - mean_squared_error: 0.0039 - val_loss: 2.0391e-04 - val_mean_squared_error: 2.0391e-04 - lr: 0.0010\n",
            "Epoch 15/100\n",
            "3/3 [==============================] - 0s 13ms/step - loss: 0.0036 - mean_squared_error: 0.0036 - val_loss: 2.2620e-04 - val_mean_squared_error: 2.2620e-04 - lr: 0.0010\n",
            "Epoch 16/100\n",
            "3/3 [==============================] - 0s 13ms/step - loss: 0.0034 - mean_squared_error: 0.0034 - val_loss: 7.6968e-04 - val_mean_squared_error: 7.6968e-04 - lr: 0.0010\n",
            "Epoch 17/100\n",
            "1/3 [=========>....................] - ETA: 0s - loss: 0.0052 - mean_squared_error: 0.0052\n",
            "Epoch 00017: ReduceLROnPlateau reducing learning rate to 0.0005000000237487257.\n",
            "3/3 [==============================] - 0s 12ms/step - loss: 0.0032 - mean_squared_error: 0.0032 - val_loss: 2.7680e-04 - val_mean_squared_error: 2.7680e-04 - lr: 0.0010\n",
            "Epoch 18/100\n",
            "3/3 [==============================] - 0s 12ms/step - loss: 0.0026 - mean_squared_error: 0.0026 - val_loss: 4.8879e-04 - val_mean_squared_error: 4.8879e-04 - lr: 5.0000e-04\n",
            "Epoch 19/100\n",
            "3/3 [==============================] - 0s 14ms/step - loss: 0.0027 - mean_squared_error: 0.0027 - val_loss: 2.2467e-04 - val_mean_squared_error: 2.2467e-04 - lr: 5.0000e-04\n",
            "Epoch 20/100\n",
            "1/3 [=========>....................] - ETA: 0s - loss: 0.0036 - mean_squared_error: 0.0036\n",
            "Epoch 00020: ReduceLROnPlateau reducing learning rate to 0.0002500000118743628.\n",
            "3/3 [==============================] - 0s 12ms/step - loss: 0.0026 - mean_squared_error: 0.0026 - val_loss: 3.2171e-04 - val_mean_squared_error: 3.2171e-04 - lr: 5.0000e-04\n",
            "Epoch 21/100\n",
            "3/3 [==============================] - 0s 13ms/step - loss: 0.0024 - mean_squared_error: 0.0024 - val_loss: 5.0870e-05 - val_mean_squared_error: 5.0870e-05 - lr: 2.5000e-04\n",
            "Epoch 22/100\n",
            "3/3 [==============================] - 0s 13ms/step - loss: 0.0025 - mean_squared_error: 0.0025 - val_loss: 2.1781e-04 - val_mean_squared_error: 2.1781e-04 - lr: 2.5000e-04\n",
            "Epoch 23/100\n",
            "3/3 [==============================] - 0s 13ms/step - loss: 0.0023 - mean_squared_error: 0.0023 - val_loss: 9.3751e-05 - val_mean_squared_error: 9.3751e-05 - lr: 2.5000e-04\n",
            "Epoch 24/100\n",
            "1/3 [=========>....................] - ETA: 0s - loss: 0.0030 - mean_squared_error: 0.0030\n",
            "Epoch 00024: ReduceLROnPlateau reducing learning rate to 0.0001250000059371814.\n",
            "3/3 [==============================] - 0s 13ms/step - loss: 0.0024 - mean_squared_error: 0.0024 - val_loss: 9.1859e-05 - val_mean_squared_error: 9.1859e-05 - lr: 2.5000e-04\n",
            "Epoch 25/100\n",
            "3/3 [==============================] - 0s 12ms/step - loss: 0.0025 - mean_squared_error: 0.0025 - val_loss: 5.2677e-05 - val_mean_squared_error: 5.2677e-05 - lr: 1.2500e-04\n",
            "Epoch 26/100\n",
            "3/3 [==============================] - 0s 12ms/step - loss: 0.0022 - mean_squared_error: 0.0022 - val_loss: 5.1359e-05 - val_mean_squared_error: 5.1359e-05 - lr: 1.2500e-04\n",
            "Epoch 27/100\n",
            "1/3 [=========>....................] - ETA: 0s - loss: 0.0027 - mean_squared_error: 0.0027\n",
            "Epoch 00027: ReduceLROnPlateau reducing learning rate to 6.25000029685907e-05.\n",
            "3/3 [==============================] - 0s 13ms/step - loss: 0.0024 - mean_squared_error: 0.0024 - val_loss: 8.2201e-05 - val_mean_squared_error: 8.2201e-05 - lr: 1.2500e-04\n",
            "Epoch 28/100\n",
            "3/3 [==============================] - 0s 12ms/step - loss: 0.0020 - mean_squared_error: 0.0020 - val_loss: 6.0408e-05 - val_mean_squared_error: 6.0408e-05 - lr: 6.2500e-05\n",
            "Epoch 29/100\n",
            "3/3 [==============================] - 0s 13ms/step - loss: 0.0022 - mean_squared_error: 0.0022 - val_loss: 5.1639e-05 - val_mean_squared_error: 5.1639e-05 - lr: 6.2500e-05\n",
            "Epoch 30/100\n",
            "1/3 [=========>....................] - ETA: 0s - loss: 0.0025 - mean_squared_error: 0.0025\n",
            "Epoch 00030: ReduceLROnPlateau reducing learning rate to 3.125000148429535e-05.\n",
            "3/3 [==============================] - 0s 13ms/step - loss: 0.0021 - mean_squared_error: 0.0021 - val_loss: 5.1719e-05 - val_mean_squared_error: 5.1719e-05 - lr: 6.2500e-05\n",
            "Epoch 31/100\n",
            "3/3 [==============================] - 0s 13ms/step - loss: 0.0023 - mean_squared_error: 0.0023 - val_loss: 5.1754e-05 - val_mean_squared_error: 5.1754e-05 - lr: 3.1250e-05\n",
            "Epoch 32/100\n",
            "3/3 [==============================] - 0s 13ms/step - loss: 0.0023 - mean_squared_error: 0.0023 - val_loss: 5.1880e-05 - val_mean_squared_error: 5.1880e-05 - lr: 3.1250e-05\n",
            "Epoch 33/100\n",
            "1/3 [=========>....................] - ETA: 0s - loss: 0.0024 - mean_squared_error: 0.0024\n",
            "Epoch 00033: ReduceLROnPlateau reducing learning rate to 1.5625000742147677e-05.\n",
            "3/3 [==============================] - 0s 13ms/step - loss: 0.0024 - mean_squared_error: 0.0024 - val_loss: 6.0936e-05 - val_mean_squared_error: 6.0936e-05 - lr: 3.1250e-05\n",
            "Epoch 34/100\n",
            "3/3 [==============================] - 0s 12ms/step - loss: 0.0022 - mean_squared_error: 0.0022 - val_loss: 5.6989e-05 - val_mean_squared_error: 5.6989e-05 - lr: 1.5625e-05\n",
            "Epoch 35/100\n",
            "3/3 [==============================] - 0s 12ms/step - loss: 0.0022 - mean_squared_error: 0.0022 - val_loss: 5.4314e-05 - val_mean_squared_error: 5.4314e-05 - lr: 1.5625e-05\n",
            "Epoch 36/100\n",
            "1/3 [=========>....................] - ETA: 0s - loss: 0.0024 - mean_squared_error: 0.0024\n",
            "Epoch 00036: ReduceLROnPlateau reducing learning rate to 7.812500371073838e-06.\n",
            "3/3 [==============================] - 0s 12ms/step - loss: 0.0021 - mean_squared_error: 0.0021 - val_loss: 5.2059e-05 - val_mean_squared_error: 5.2059e-05 - lr: 1.5625e-05\n",
            "Epoch 37/100\n",
            "3/3 [==============================] - 0s 13ms/step - loss: 0.0022 - mean_squared_error: 0.0022 - val_loss: 5.2033e-05 - val_mean_squared_error: 5.2033e-05 - lr: 7.8125e-06\n",
            "Epoch 38/100\n",
            "3/3 [==============================] - 0s 12ms/step - loss: 0.0021 - mean_squared_error: 0.0021 - val_loss: 5.2066e-05 - val_mean_squared_error: 5.2066e-05 - lr: 7.8125e-06\n",
            "Epoch 39/100\n",
            "1/3 [=========>....................] - ETA: 0s - loss: 0.0023 - mean_squared_error: 0.0023\n",
            "Epoch 00039: ReduceLROnPlateau reducing learning rate to 3.906250185536919e-06.\n",
            "3/3 [==============================] - 0s 13ms/step - loss: 0.0019 - mean_squared_error: 0.0019 - val_loss: 5.2265e-05 - val_mean_squared_error: 5.2265e-05 - lr: 7.8125e-06\n",
            "Epoch 40/100\n",
            "3/3 [==============================] - 0s 14ms/step - loss: 0.0022 - mean_squared_error: 0.0022 - val_loss: 5.2649e-05 - val_mean_squared_error: 5.2649e-05 - lr: 3.9063e-06\n",
            "Epoch 41/100\n",
            "3/3 [==============================] - 0s 13ms/step - loss: 0.0019 - mean_squared_error: 0.0019 - val_loss: 5.2500e-05 - val_mean_squared_error: 5.2500e-05 - lr: 3.9063e-06\n",
            "Epoch 42/100\n",
            "1/3 [=========>....................] - ETA: 0s - loss: 0.0024 - mean_squared_error: 0.0024\n",
            "Epoch 00042: ReduceLROnPlateau reducing learning rate to 1.9531250927684596e-06.\n",
            "3/3 [==============================] - 0s 14ms/step - loss: 0.0023 - mean_squared_error: 0.0023 - val_loss: 5.2180e-05 - val_mean_squared_error: 5.2180e-05 - lr: 3.9063e-06\n",
            "Epoch 43/100\n",
            "3/3 [==============================] - 0s 12ms/step - loss: 0.0020 - mean_squared_error: 0.0020 - val_loss: 5.2186e-05 - val_mean_squared_error: 5.2186e-05 - lr: 1.9531e-06\n",
            "Epoch 44/100\n",
            "3/3 [==============================] - 0s 12ms/step - loss: 0.0022 - mean_squared_error: 0.0022 - val_loss: 5.2250e-05 - val_mean_squared_error: 5.2250e-05 - lr: 1.9531e-06\n",
            "Epoch 45/100\n",
            "1/3 [=========>....................] - ETA: 0s - loss: 0.0023 - mean_squared_error: 0.0023\n",
            "Epoch 00045: ReduceLROnPlateau reducing learning rate to 9.765625463842298e-07.\n",
            "3/3 [==============================] - 0s 13ms/step - loss: 0.0019 - mean_squared_error: 0.0019 - val_loss: 5.2306e-05 - val_mean_squared_error: 5.2306e-05 - lr: 1.9531e-06\n",
            "Epoch 46/100\n",
            "3/3 [==============================] - 0s 13ms/step - loss: 0.0019 - mean_squared_error: 0.0019 - val_loss: 5.2288e-05 - val_mean_squared_error: 5.2288e-05 - lr: 9.7656e-07\n",
            "Epoch 47/100\n",
            "3/3 [==============================] - 0s 13ms/step - loss: 0.0024 - mean_squared_error: 0.0024 - val_loss: 5.2298e-05 - val_mean_squared_error: 5.2298e-05 - lr: 9.7656e-07\n",
            "Epoch 48/100\n",
            "1/3 [=========>....................] - ETA: 0s - loss: 0.0023 - mean_squared_error: 0.0023\n",
            "Epoch 00048: ReduceLROnPlateau reducing learning rate to 4.882812731921149e-07.\n",
            "3/3 [==============================] - 0s 14ms/step - loss: 0.0025 - mean_squared_error: 0.0025 - val_loss: 5.2355e-05 - val_mean_squared_error: 5.2355e-05 - lr: 9.7656e-07\n",
            "Epoch 49/100\n",
            "3/3 [==============================] - 0s 13ms/step - loss: 0.0021 - mean_squared_error: 0.0021 - val_loss: 5.2376e-05 - val_mean_squared_error: 5.2376e-05 - lr: 4.8828e-07\n",
            "Epoch 50/100\n",
            "3/3 [==============================] - 0s 14ms/step - loss: 0.0019 - mean_squared_error: 0.0019 - val_loss: 5.2382e-05 - val_mean_squared_error: 5.2382e-05 - lr: 4.8828e-07\n",
            "Epoch 51/100\n",
            "1/3 [=========>....................] - ETA: 0s - loss: 0.0023 - mean_squared_error: 0.0023\n",
            "Epoch 00051: ReduceLROnPlateau reducing learning rate to 2.4414063659605745e-07.\n",
            "3/3 [==============================] - 0s 13ms/step - loss: 0.0020 - mean_squared_error: 0.0020 - val_loss: 5.2350e-05 - val_mean_squared_error: 5.2350e-05 - lr: 4.8828e-07\n",
            "Epoch 52/100\n",
            "3/3 [==============================] - 0s 12ms/step - loss: 0.0021 - mean_squared_error: 0.0021 - val_loss: 5.2363e-05 - val_mean_squared_error: 5.2363e-05 - lr: 2.4414e-07\n",
            "Epoch 53/100\n",
            "3/3 [==============================] - 0s 12ms/step - loss: 0.0020 - mean_squared_error: 0.0020 - val_loss: 5.2369e-05 - val_mean_squared_error: 5.2369e-05 - lr: 2.4414e-07\n",
            "Epoch 54/100\n",
            "1/3 [=========>....................] - ETA: 0s - loss: 0.0024 - mean_squared_error: 0.0024\n",
            "Epoch 00054: ReduceLROnPlateau reducing learning rate to 1.2207031829802872e-07.\n",
            "3/3 [==============================] - 0s 12ms/step - loss: 0.0018 - mean_squared_error: 0.0018 - val_loss: 5.2379e-05 - val_mean_squared_error: 5.2379e-05 - lr: 2.4414e-07\n",
            "Epoch 55/100\n",
            "3/3 [==============================] - 0s 14ms/step - loss: 0.0020 - mean_squared_error: 0.0020 - val_loss: 5.2372e-05 - val_mean_squared_error: 5.2372e-05 - lr: 1.2207e-07\n",
            "Epoch 56/100\n",
            "3/3 [==============================] - 0s 14ms/step - loss: 0.0022 - mean_squared_error: 0.0022 - val_loss: 5.2374e-05 - val_mean_squared_error: 5.2374e-05 - lr: 1.2207e-07\n",
            "Epoch 57/100\n",
            "1/3 [=========>....................] - ETA: 0s - loss: 0.0023 - mean_squared_error: 0.0023\n",
            "Epoch 00057: ReduceLROnPlateau reducing learning rate to 6.103515914901436e-08.\n",
            "3/3 [==============================] - 0s 13ms/step - loss: 0.0020 - mean_squared_error: 0.0020 - val_loss: 5.2360e-05 - val_mean_squared_error: 5.2360e-05 - lr: 1.2207e-07\n",
            "Epoch 58/100\n",
            "3/3 [==============================] - 0s 14ms/step - loss: 0.0021 - mean_squared_error: 0.0021 - val_loss: 5.2361e-05 - val_mean_squared_error: 5.2361e-05 - lr: 6.1035e-08\n",
            "Epoch 59/100\n",
            "3/3 [==============================] - 0s 13ms/step - loss: 0.0020 - mean_squared_error: 0.0020 - val_loss: 5.2358e-05 - val_mean_squared_error: 5.2358e-05 - lr: 6.1035e-08\n",
            "Epoch 60/100\n",
            "1/3 [=========>....................] - ETA: 0s - loss: 0.0024 - mean_squared_error: 0.0024\n",
            "Epoch 00060: ReduceLROnPlateau reducing learning rate to 3.051757957450718e-08.\n",
            "3/3 [==============================] - 0s 17ms/step - loss: 0.0021 - mean_squared_error: 0.0021 - val_loss: 5.2356e-05 - val_mean_squared_error: 5.2356e-05 - lr: 6.1035e-08\n",
            "Epoch 61/100\n",
            "3/3 [==============================] - 0s 15ms/step - loss: 0.0023 - mean_squared_error: 0.0023 - val_loss: 5.2356e-05 - val_mean_squared_error: 5.2356e-05 - lr: 3.0518e-08\n",
            "Epoch 62/100\n",
            "3/3 [==============================] - 0s 13ms/step - loss: 0.0022 - mean_squared_error: 0.0022 - val_loss: 5.2354e-05 - val_mean_squared_error: 5.2354e-05 - lr: 3.0518e-08\n",
            "Epoch 63/100\n",
            "1/3 [=========>....................] - ETA: 0s - loss: 0.0023 - mean_squared_error: 0.0023\n",
            "Epoch 00063: ReduceLROnPlateau reducing learning rate to 1.525878978725359e-08.\n",
            "3/3 [==============================] - 0s 13ms/step - loss: 0.0021 - mean_squared_error: 0.0021 - val_loss: 5.2356e-05 - val_mean_squared_error: 5.2356e-05 - lr: 3.0518e-08\n",
            "Epoch 64/100\n",
            "3/3 [==============================] - 0s 15ms/step - loss: 0.0021 - mean_squared_error: 0.0021 - val_loss: 5.2356e-05 - val_mean_squared_error: 5.2356e-05 - lr: 1.5259e-08\n",
            "Epoch 65/100\n",
            "3/3 [==============================] - 0s 13ms/step - loss: 0.0022 - mean_squared_error: 0.0022 - val_loss: 5.2356e-05 - val_mean_squared_error: 5.2356e-05 - lr: 1.5259e-08\n",
            "Epoch 66/100\n",
            "1/3 [=========>....................] - ETA: 0s - loss: 0.0023 - mean_squared_error: 0.0023\n",
            "Epoch 00066: ReduceLROnPlateau reducing learning rate to 7.629394893626795e-09.\n",
            "3/3 [==============================] - 0s 14ms/step - loss: 0.0022 - mean_squared_error: 0.0022 - val_loss: 5.2356e-05 - val_mean_squared_error: 5.2356e-05 - lr: 1.5259e-08\n",
            "Epoch 67/100\n",
            "3/3 [==============================] - 0s 13ms/step - loss: 0.0025 - mean_squared_error: 0.0025 - val_loss: 5.2356e-05 - val_mean_squared_error: 5.2356e-05 - lr: 7.6294e-09\n",
            "Epoch 68/100\n",
            "3/3 [==============================] - 0s 13ms/step - loss: 0.0020 - mean_squared_error: 0.0020 - val_loss: 5.2356e-05 - val_mean_squared_error: 5.2356e-05 - lr: 7.6294e-09\n",
            "Epoch 69/100\n",
            "1/3 [=========>....................] - ETA: 0s - loss: 0.0024 - mean_squared_error: 0.0024\n",
            "Epoch 00069: ReduceLROnPlateau reducing learning rate to 3.814697446813398e-09.\n",
            "3/3 [==============================] - 0s 13ms/step - loss: 0.0021 - mean_squared_error: 0.0021 - val_loss: 5.2357e-05 - val_mean_squared_error: 5.2357e-05 - lr: 7.6294e-09\n",
            "Epoch 70/100\n",
            "3/3 [==============================] - 0s 12ms/step - loss: 0.0020 - mean_squared_error: 0.0020 - val_loss: 5.2357e-05 - val_mean_squared_error: 5.2357e-05 - lr: 3.8147e-09\n",
            "Epoch 71/100\n",
            "3/3 [==============================] - 0s 12ms/step - loss: 0.0020 - mean_squared_error: 0.0020 - val_loss: 5.2356e-05 - val_mean_squared_error: 5.2356e-05 - lr: 3.8147e-09\n",
            "Epoch 72/100\n",
            "1/3 [=========>....................] - ETA: 0s - loss: 0.0023 - mean_squared_error: 0.0023\n",
            "Epoch 00072: ReduceLROnPlateau reducing learning rate to 1.907348723406699e-09.\n",
            "3/3 [==============================] - 0s 13ms/step - loss: 0.0022 - mean_squared_error: 0.0022 - val_loss: 5.2356e-05 - val_mean_squared_error: 5.2356e-05 - lr: 3.8147e-09\n",
            "Epoch 73/100\n",
            "3/3 [==============================] - 0s 13ms/step - loss: 0.0021 - mean_squared_error: 0.0021 - val_loss: 5.2356e-05 - val_mean_squared_error: 5.2356e-05 - lr: 1.9073e-09\n",
            "Epoch 74/100\n",
            "3/3 [==============================] - 0s 13ms/step - loss: 0.0018 - mean_squared_error: 0.0018 - val_loss: 5.2356e-05 - val_mean_squared_error: 5.2356e-05 - lr: 1.9073e-09\n",
            "Epoch 75/100\n",
            "1/3 [=========>....................] - ETA: 0s - loss: 0.0024 - mean_squared_error: 0.0024\n",
            "Epoch 00075: ReduceLROnPlateau reducing learning rate to 9.536743617033494e-10.\n",
            "3/3 [==============================] - 0s 13ms/step - loss: 0.0019 - mean_squared_error: 0.0019 - val_loss: 5.2356e-05 - val_mean_squared_error: 5.2356e-05 - lr: 1.9073e-09\n",
            "Epoch 76/100\n",
            "3/3 [==============================] - 0s 13ms/step - loss: 0.0022 - mean_squared_error: 0.0022 - val_loss: 5.2356e-05 - val_mean_squared_error: 5.2356e-05 - lr: 9.5367e-10\n",
            "Epoch 77/100\n",
            "3/3 [==============================] - 0s 14ms/step - loss: 0.0022 - mean_squared_error: 0.0022 - val_loss: 5.2356e-05 - val_mean_squared_error: 5.2356e-05 - lr: 9.5367e-10\n",
            "Epoch 78/100\n",
            "1/3 [=========>....................] - ETA: 0s - loss: 0.0023 - mean_squared_error: 0.0023\n",
            "Epoch 00078: ReduceLROnPlateau reducing learning rate to 4.768371808516747e-10.\n",
            "3/3 [==============================] - 0s 13ms/step - loss: 0.0023 - mean_squared_error: 0.0023 - val_loss: 5.2356e-05 - val_mean_squared_error: 5.2356e-05 - lr: 9.5367e-10\n",
            "Epoch 79/100\n",
            "3/3 [==============================] - 0s 13ms/step - loss: 0.0021 - mean_squared_error: 0.0021 - val_loss: 5.2357e-05 - val_mean_squared_error: 5.2357e-05 - lr: 4.7684e-10\n",
            "Epoch 80/100\n",
            "3/3 [==============================] - 0s 13ms/step - loss: 0.0023 - mean_squared_error: 0.0023 - val_loss: 5.2357e-05 - val_mean_squared_error: 5.2357e-05 - lr: 4.7684e-10\n",
            "Epoch 81/100\n",
            "1/3 [=========>....................] - ETA: 0s - loss: 0.0023 - mean_squared_error: 0.0023\n",
            "Epoch 00081: ReduceLROnPlateau reducing learning rate to 2.3841859042583735e-10.\n",
            "3/3 [==============================] - 0s 12ms/step - loss: 0.0025 - mean_squared_error: 0.0025 - val_loss: 5.2357e-05 - val_mean_squared_error: 5.2357e-05 - lr: 4.7684e-10\n",
            "Epoch 82/100\n",
            "3/3 [==============================] - 0s 12ms/step - loss: 0.0026 - mean_squared_error: 0.0026 - val_loss: 5.2357e-05 - val_mean_squared_error: 5.2357e-05 - lr: 2.3842e-10\n",
            "Epoch 83/100\n",
            "3/3 [==============================] - 0s 14ms/step - loss: 0.0022 - mean_squared_error: 0.0022 - val_loss: 5.2357e-05 - val_mean_squared_error: 5.2357e-05 - lr: 2.3842e-10\n",
            "Epoch 84/100\n",
            "1/3 [=========>....................] - ETA: 0s - loss: 0.0023 - mean_squared_error: 0.0023\n",
            "Epoch 00084: ReduceLROnPlateau reducing learning rate to 1.1920929521291868e-10.\n",
            "3/3 [==============================] - 0s 13ms/step - loss: 0.0022 - mean_squared_error: 0.0022 - val_loss: 5.2357e-05 - val_mean_squared_error: 5.2357e-05 - lr: 2.3842e-10\n",
            "Epoch 85/100\n",
            "3/3 [==============================] - 0s 14ms/step - loss: 0.0022 - mean_squared_error: 0.0022 - val_loss: 5.2357e-05 - val_mean_squared_error: 5.2357e-05 - lr: 1.1921e-10\n",
            "Epoch 86/100\n",
            "3/3 [==============================] - 0s 12ms/step - loss: 0.0021 - mean_squared_error: 0.0021 - val_loss: 5.2357e-05 - val_mean_squared_error: 5.2357e-05 - lr: 1.1921e-10\n",
            "Epoch 87/100\n",
            "1/3 [=========>....................] - ETA: 0s - loss: 0.0024 - mean_squared_error: 0.0024\n",
            "Epoch 00087: ReduceLROnPlateau reducing learning rate to 1e-10.\n",
            "3/3 [==============================] - 0s 14ms/step - loss: 0.0021 - mean_squared_error: 0.0021 - val_loss: 5.2357e-05 - val_mean_squared_error: 5.2357e-05 - lr: 1.1921e-10\n",
            "Epoch 88/100\n",
            "3/3 [==============================] - 0s 13ms/step - loss: 0.0022 - mean_squared_error: 0.0022 - val_loss: 5.2357e-05 - val_mean_squared_error: 5.2357e-05 - lr: 1.0000e-10\n",
            "Epoch 89/100\n",
            "3/3 [==============================] - 0s 14ms/step - loss: 0.0024 - mean_squared_error: 0.0024 - val_loss: 5.2357e-05 - val_mean_squared_error: 5.2357e-05 - lr: 1.0000e-10\n",
            "Epoch 90/100\n",
            "3/3 [==============================] - 0s 14ms/step - loss: 0.0019 - mean_squared_error: 0.0019 - val_loss: 5.2357e-05 - val_mean_squared_error: 5.2357e-05 - lr: 1.0000e-10\n",
            "Epoch 91/100\n",
            "3/3 [==============================] - 0s 14ms/step - loss: 0.0020 - mean_squared_error: 0.0020 - val_loss: 5.2357e-05 - val_mean_squared_error: 5.2357e-05 - lr: 1.0000e-10\n",
            "Epoch 92/100\n",
            "3/3 [==============================] - 0s 14ms/step - loss: 0.0020 - mean_squared_error: 0.0020 - val_loss: 5.2357e-05 - val_mean_squared_error: 5.2357e-05 - lr: 1.0000e-10\n",
            "Epoch 93/100\n",
            "3/3 [==============================] - 0s 14ms/step - loss: 0.0019 - mean_squared_error: 0.0019 - val_loss: 5.2357e-05 - val_mean_squared_error: 5.2357e-05 - lr: 1.0000e-10\n",
            "Epoch 94/100\n",
            "3/3 [==============================] - 0s 13ms/step - loss: 0.0019 - mean_squared_error: 0.0019 - val_loss: 5.2357e-05 - val_mean_squared_error: 5.2357e-05 - lr: 1.0000e-10\n",
            "Epoch 95/100\n",
            "3/3 [==============================] - 0s 14ms/step - loss: 0.0019 - mean_squared_error: 0.0019 - val_loss: 5.2357e-05 - val_mean_squared_error: 5.2357e-05 - lr: 1.0000e-10\n",
            "Epoch 96/100\n",
            "3/3 [==============================] - 0s 14ms/step - loss: 0.0020 - mean_squared_error: 0.0020 - val_loss: 5.2357e-05 - val_mean_squared_error: 5.2357e-05 - lr: 1.0000e-10\n",
            "Epoch 97/100\n",
            "3/3 [==============================] - 0s 13ms/step - loss: 0.0021 - mean_squared_error: 0.0021 - val_loss: 5.2357e-05 - val_mean_squared_error: 5.2357e-05 - lr: 1.0000e-10\n",
            "Epoch 98/100\n",
            "3/3 [==============================] - 0s 13ms/step - loss: 0.0020 - mean_squared_error: 0.0020 - val_loss: 5.2357e-05 - val_mean_squared_error: 5.2357e-05 - lr: 1.0000e-10\n",
            "Epoch 99/100\n",
            "3/3 [==============================] - 0s 14ms/step - loss: 0.0020 - mean_squared_error: 0.0020 - val_loss: 5.2357e-05 - val_mean_squared_error: 5.2357e-05 - lr: 1.0000e-10\n",
            "Epoch 100/100\n",
            "3/3 [==============================] - 0s 14ms/step - loss: 0.0021 - mean_squared_error: 0.0021 - val_loss: 5.2357e-05 - val_mean_squared_error: 5.2357e-05 - lr: 1.0000e-10\n"
          ]
        }
      ],
      "source": [
        "from keras.callbacks import ReduceLROnPlateau\n",
        "\n",
        "batchsize = 100\n",
        "epochs =  100\n",
        "\n",
        "learning_rate_reduction = ReduceLROnPlateau(monitor='val_mean_squared_error', \n",
        "                                            patience=3, \n",
        "                                            verbose=1, \n",
        "                                            factor=0.5, \n",
        "                                            min_lr=1e-10)\n",
        "\n",
        "history = model.fit(X_train,\n",
        "                    y_train,\n",
        "                    batch_size=batchsize,\n",
        "                    epochs=epochs,\n",
        "                    validation_split=0.2,\n",
        "                    shuffle=False,\n",
        "                    callbacks=[learning_rate_reduction])"
      ]
    },
    {
      "cell_type": "markdown",
      "metadata": {
        "id": "mY254pLAXQjW"
      },
      "source": [
        "* Plote os valores de perda e MSE do modelo ao longo do treinamento."
      ]
    },
    {
      "cell_type": "code",
      "execution_count": 20,
      "metadata": {
        "colab": {
          "base_uri": "https://localhost:8080/",
          "height": 577
        },
        "id": "THp5RopAXQjW",
        "outputId": "96ebc1ab-343a-4876-8690-6c0ef8a4ca44",
        "trusted": true
      },
      "outputs": [
        {
          "data": {
            "image/png": "[encoded data removed]",
            "text/plain": [
              "<Figure size 432x288 with 1 Axes>"
            ]
          },
          "metadata": {
            "needs_background": "light"
          },
          "output_type": "display_data"
        },
        {
          "data": {
            "image/png": "[encoded data removed]",
            "text/plain": [
              "<Figure size 432x288 with 1 Axes>"
            ]
          },
          "metadata": {
            "needs_background": "light"
          },
          "output_type": "display_data"
        }
      ],
      "source": [
        "import matplotlib.pyplot as plt\n",
        "\n",
        "plt.plot(history.history['loss'])\n",
        "plt.plot(history.history['val_loss'])\n",
        "plt.title('Modelo de percas')\n",
        "plt.ylabel('Percas')\n",
        "plt.xlabel('Épocas')\n",
        "plt.legend(['Treino', 'Valor'])\n",
        "plt.show()\n",
        "\n",
        "plt.plot(history.history['mean_squared_error'])\n",
        "plt.plot(history.history['val_mean_squared_error'])\n",
        "plt.title('Erro de modelo')\n",
        "plt.ylabel('Erro médio')\n",
        "plt.xlabel('Épocas')\n",
        "plt.legend(['Treino', 'Valor'])\n",
        "plt.show()"
      ]
    },
    {
      "cell_type": "markdown",
      "metadata": {
        "id": "USWAc2I6XQjX"
      },
      "source": [
        "# Previsões do modelo\n",
        "* Para ver a precisão do nosso modelo, primeiro o usamos para prever a saída de nossos dados X_test.\n",
        "* Em seguida, redimensionamos nossos dados de previsão e y_test de volta aos limites originais do conjunto de dados para plotar com precisão seus valores.\n",
        "* Por fim, podemos traçar os casos reais de Covid em comparação com nossos casos previstos de Covid para ver a precisão geral do nosso modelo."
      ]
    },
    {
      "cell_type": "code",
      "execution_count": 21,
      "metadata": {
        "colab": {
          "base_uri": "https://localhost:8080/",
          "height": 312
        },
        "id": "KiIwZhbPXQjX",
        "outputId": "bc042b7a-296e-46f9-a469-954f190845c6",
        "trusted": true
      },
      "outputs": [
        {
          "data": {
            "text/plain": [
              "<matplotlib.legend.Legend at 0x1d1e5a2b910>"
            ]
          },
          "execution_count": 21,
          "metadata": {},
          "output_type": "execute_result"
        },
        {
          "data": {
            "image/png": "[encoded data removed]",
            "text/plain": [
              "<Figure size 432x288 with 1 Axes>"
            ]
          },
          "metadata": {
            "needs_background": "light"
          },
          "output_type": "display_data"
        }
      ],
      "source": [
        "y_pred = model.predict(X_test)\n",
        "y_pred = scaler.inverse_transform(y_pred)\n",
        "y_test = scaler.inverse_transform(y_test.reshape(-1,1))\n",
        "\n",
        "plt.plot(y_pred, color='red')\n",
        "plt.plot(y_test, color='blue')\n",
        "plt.title('Casos de Covid reais x previstos (dados de teste)')\n",
        "plt.ylabel('Número de casos')\n",
        "plt.xlabel('Dia')\n",
        "plt.legend(['Previsto', 'Atual'])"
      ]
    }
  ],
  "metadata": {
    "colab": {
      "collapsed_sections": [],
      "name": "Prevendo_casos_de_covid.ipynb",
      "provenance": []
    },
    "kernelspec": {
      "display_name": "Python 3",
      "language": "python",
      "name": "python3"
    },
    "language_info": {
      "codemirror_mode": {
        "name": "ipython",
        "version": 3
      },
      "file_extension": ".py",
      "mimetype": "text/x-python",
      "name": "python",
      "nbconvert_exporter": "python",
      "pygments_lexer": "ipython3",
      "version": "3.9.0"
    }
  },
  "nbformat": 4,
  "nbformat_minor": 0
}
